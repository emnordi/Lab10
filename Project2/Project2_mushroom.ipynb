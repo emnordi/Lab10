{
  "nbformat": 4,
  "nbformat_minor": 0,
  "metadata": {
    "colab": {
      "name": "Project2_mushroom.ipynb",
      "provenance": [],
      "collapsed_sections": [],
      "machine_shape": "hm",
      "authorship_tag": "ABX9TyPEoWPK84gb9SwMc1d0rQ6p",
      "include_colab_link": true
    },
    "kernelspec": {
      "name": "python3",
      "display_name": "Python 3"
    }
  },
  "cells": [
    {
      "cell_type": "markdown",
      "metadata": {
        "id": "view-in-github",
        "colab_type": "text"
      },
      "source": [
        "<a href=\"https://colab.research.google.com/github/emnordi/Lab10/blob/master/Project2/Project2_mushroom.ipynb\" target=\"_parent\"><img src=\"https://colab.research.google.com/assets/colab-badge.svg\" alt=\"Open In Colab\"/></a>"
      ]
    },
    {
      "cell_type": "code",
      "metadata": {
        "id": "bDMaCt1BUrNV",
        "colab_type": "code",
        "colab": {}
      },
      "source": [
        "import pandas as pd\n",
        "import os\n",
        "import io\n",
        "import numpy as np\n",
        "from sklearn.model_selection import StratifiedKFold\n",
        "from sklearn import tree\n",
        "from sklearn.ensemble import RandomForestClassifier\n",
        "from sklearn.model_selection import cross_val_score\n",
        "\n",
        "os.environ['KAGGLE_USERNAME'] = \"emilnordin\" # username from the json file\n",
        "\n",
        "os.environ['KAGGLE_KEY'] = \"fd1ae7405c909d36a1ecffea5cd2749a\" # key from the json file"
      ],
      "execution_count": 0,
      "outputs": []
    },
    {
      "cell_type": "code",
      "metadata": {
        "id": "9P_vaSf1UshP",
        "colab_type": "code",
        "outputId": "8444d7a2-fff9-464a-e3bb-f34b266d5b43",
        "colab": {
          "base_uri": "https://localhost:8080/",
          "height": 66
        }
      },
      "source": [
        "!kaggle datasets download -d uciml/mushroom-classification"
      ],
      "execution_count": 3,
      "outputs": [
        {
          "output_type": "stream",
          "text": [
            "Downloading mushroom-classification.zip to /content\n",
            "\r  0% 0.00/34.2k [00:00<?, ?B/s]\n",
            "\r100% 34.2k/34.2k [00:00<00:00, 30.5MB/s]\n"
          ],
          "name": "stdout"
        }
      ]
    },
    {
      "cell_type": "code",
      "metadata": {
        "id": "pAj0r4QGUu7c",
        "colab_type": "code",
        "colab": {}
      },
      "source": [
        "data_mush = pd.read_csv('mushroom-classification.zip', compression='zip', header=0, sep=',', quotechar='\"', encoding = \"utf-8\")"
      ],
      "execution_count": 0,
      "outputs": []
    },
    {
      "cell_type": "code",
      "metadata": {
        "id": "NG0H3EqEUy-G",
        "colab_type": "code",
        "colab": {}
      },
      "source": [
        "#Downsample to get 65% imbalance\n",
        "mush_p_ind = data_mush[data_mush['class'] == 'p'].index\n",
        "to_del = mush_p_ind[0:int(len(mush_p_ind)*0.43)]\n",
        "data_mush_imbalanced = data_mush.drop(index=to_del)\n",
        "\n",
        "#Convert string data to ints\n",
        "data_mush_imbalanced_ = pd.get_dummies(data_mush_imbalanced)\n",
        "data_mush_imbalanced_ = data_mush_imbalanced_.drop('class_e', axis=1)"
      ],
      "execution_count": 0,
      "outputs": []
    },
    {
      "cell_type": "code",
      "metadata": {
        "id": "Yc30-kcXU6HA",
        "colab_type": "code",
        "outputId": "d47dab4d-e2a0-46d0-8c40-7b0fcd540b39",
        "colab": {
          "base_uri": "https://localhost:8080/",
          "height": 245
        }
      },
      "source": [
        "print(data_mush_imbalanced_)"
      ],
      "execution_count": 6,
      "outputs": [
        {
          "output_type": "stream",
          "text": [
            "      class_p  cap-shape_b  cap-shape_c  ...  habitat_p  habitat_u  habitat_w\n",
            "1           0            0            0  ...          0          0          0\n",
            "2           0            1            0  ...          0          0          0\n",
            "4           0            0            0  ...          0          0          0\n",
            "5           0            0            0  ...          0          0          0\n",
            "6           0            1            0  ...          0          0          0\n",
            "...       ...          ...          ...  ...        ...        ...        ...\n",
            "8119        0            0            0  ...          0          0          0\n",
            "8120        0            0            0  ...          0          0          0\n",
            "8121        0            0            0  ...          0          0          0\n",
            "8122        1            0            0  ...          0          0          0\n",
            "8123        0            0            0  ...          0          0          0\n",
            "\n",
            "[6441 rows x 116 columns]\n"
          ],
          "name": "stdout"
        }
      ]
    },
    {
      "cell_type": "code",
      "metadata": {
        "id": "SVwZ4oEyU7Xj",
        "colab_type": "code",
        "outputId": "3491018d-e33b-46d6-8199-2625dfd67b2a",
        "colab": {
          "base_uri": "https://localhost:8080/",
          "height": 82
        }
      },
      "source": [
        "print(data_mush_imbalanced_['class_p'].value_counts())\n",
        "print(\"Imbalance:\", data_mush_imbalanced_['class_p'].value_counts()[0]/sum(data_mush_imbalanced_.class_p.value_counts()))"
      ],
      "execution_count": 7,
      "outputs": [
        {
          "output_type": "stream",
          "text": [
            "0    4208\n",
            "1    2233\n",
            "Name: class_p, dtype: int64\n",
            "Imbalance: 0.6533147026859183\n"
          ],
          "name": "stdout"
        }
      ]
    },
    {
      "cell_type": "code",
      "metadata": {
        "id": "qKrK8SseVCXe",
        "colab_type": "code",
        "colab": {}
      },
      "source": [
        "tree_clf = tree.DecisionTreeClassifier(random_state=0)\n",
        "rf_clf = RandomForestClassifier(max_depth=2, random_state=0)"
      ],
      "execution_count": 0,
      "outputs": []
    },
    {
      "cell_type": "code",
      "metadata": {
        "id": "xb0aH4BcVPtR",
        "colab_type": "code",
        "colab": {}
      },
      "source": [
        "def evaluatePerformance(clf, features, labels):\n",
        "  a = cross_val_score(tree_clf, features, labels, cv=10, scoring='accuracy')\n",
        "  p = cross_val_score(tree_clf, features, labels, cv=10, scoring='precision')\n",
        "  r = cross_val_score(tree_clf, features, labels, cv=10, scoring='recall')\n",
        "  f = cross_val_score(tree_clf, features, labels, cv=10, scoring='f1')\n",
        "\n",
        "  print(\"Accuracy:\", a.mean(), \"+/-\", a.std())\n",
        "  print(\"Precision:\", p.mean(), \"+/-\", p.std())\n",
        "  print(\"Recall:\", r.mean(), \"+/-\", r.std())\n",
        "  print(\"F1-Score:\", f.mean(), \"+/-\", f.std())"
      ],
      "execution_count": 0,
      "outputs": []
    },
    {
      "cell_type": "code",
      "metadata": {
        "id": "Fxao6G8uVS8C",
        "colab_type": "code",
        "outputId": "d3000c39-e817-4a5f-be0a-8919fa4ea0ed",
        "colab": {
          "base_uri": "https://localhost:8080/",
          "height": 82
        }
      },
      "source": [
        "#Mushroom dataset base scores DT\n",
        "feat_mush = np.array(data_mush_imbalanced_.drop('class_p', axis=1))\n",
        "lab_mush = np.array(data_mush_imbalanced_['class_p'])\n",
        "\n",
        "evaluatePerformance(tree_clf, feat_mush, lab_mush)"
      ],
      "execution_count": 10,
      "outputs": [
        {
          "output_type": "stream",
          "text": [
            "Accuracy: 0.9996899224806202 +/- 0.0009302325581395434\n",
            "Precision: 1.0 +/- 0.0\n",
            "Recall: 0.9991071428571429 +/- 0.0026785714285714195\n",
            "F1-Score: 0.9995515695067265 +/- 0.0013452914798206318\n"
          ],
          "name": "stdout"
        }
      ]
    },
    {
      "cell_type": "code",
      "metadata": {
        "id": "Se0cSKwIVWNI",
        "colab_type": "code",
        "outputId": "5f863e4f-ac33-48ca-faf3-9ec72dcfc7b5",
        "colab": {
          "base_uri": "https://localhost:8080/",
          "height": 82
        }
      },
      "source": [
        "#Mushroom dataset base scores RF\n",
        "evaluatePerformance(rf_clf, feat_mush, lab_mush)"
      ],
      "execution_count": 11,
      "outputs": [
        {
          "output_type": "stream",
          "text": [
            "Accuracy: 0.9996899224806202 +/- 0.0009302325581395434\n",
            "Precision: 1.0 +/- 0.0\n",
            "Recall: 0.9991071428571429 +/- 0.0026785714285714195\n",
            "F1-Score: 0.9995515695067265 +/- 0.0013452914798206318\n"
          ],
          "name": "stdout"
        }
      ]
    },
    {
      "cell_type": "markdown",
      "metadata": {
        "id": "PgbgjC5zVhXO",
        "colab_type": "text"
      },
      "source": [
        "DOWNSAMPLING THE DATASETS AND RETRIEVING NEW PERFORMANCE RESULTS"
      ]
    },
    {
      "cell_type": "code",
      "metadata": {
        "id": "teaV3_zUVh_G",
        "colab_type": "code",
        "outputId": "a8339933-a53f-4246-e262-bd3e0a0829f5",
        "colab": {
          "base_uri": "https://localhost:8080/",
          "height": 82
        }
      },
      "source": [
        "#Downsample MUSHROOM DATASET to get 50%\n",
        "mush_p_ind_ = data_mush_imbalanced_[data_mush_imbalanced_['class_p'] == 0].index\n",
        "to_del = mush_p_ind_[0:int(len(mush_p_ind_)*0.46)]\n",
        "data_mush_imbalanced_test = data_mush_imbalanced_.drop(index=to_del)\n",
        "\n",
        "print(data_mush_imbalanced_test['class_p'].value_counts())\n",
        "print(\"Imbalance:\", data_mush_imbalanced_test['class_p'].value_counts()[0]/(data_mush_imbalanced_test['class_p'].value_counts()[1]+(data_mush_imbalanced_test['class_p'].value_counts()[0])))"
      ],
      "execution_count": 12,
      "outputs": [
        {
          "output_type": "stream",
          "text": [
            "0    2273\n",
            "1    2233\n",
            "Name: class_p, dtype: int64\n",
            "Imbalance: 0.5044385264092321\n"
          ],
          "name": "stdout"
        }
      ]
    },
    {
      "cell_type": "code",
      "metadata": {
        "id": "EaKUG1IaVzV4",
        "colab_type": "code",
        "outputId": "8ad4138f-de6d-4e6a-98eb-32292c3ad949",
        "colab": {
          "base_uri": "https://localhost:8080/",
          "height": 82
        }
      },
      "source": [
        "#MUSHROOM DATASET downsampling scores DT\n",
        "feat_mush_test = data_mush_imbalanced_test.drop('class_p', axis=1)\n",
        "lab_mush_test = data_mush_imbalanced_test['class_p']\n",
        "\n",
        "evaluatePerformance(tree_clf, feat_mush_test, lab_mush_test)"
      ],
      "execution_count": 13,
      "outputs": [
        {
          "output_type": "stream",
          "text": [
            "Accuracy: 0.9995565410199557 +/- 0.0013303769401330269\n",
            "Precision: 1.0 +/- 0.0\n",
            "Recall: 0.9991031390134528 +/- 0.002690582959641263\n",
            "F1-Score: 0.9995495495495496 +/- 0.001351351351351371\n"
          ],
          "name": "stdout"
        }
      ]
    },
    {
      "cell_type": "code",
      "metadata": {
        "id": "-XjqwzCIV1Qh",
        "colab_type": "code",
        "outputId": "2f8c9f00-da6e-4517-9be1-1455213869aa",
        "colab": {
          "base_uri": "https://localhost:8080/",
          "height": 82
        }
      },
      "source": [
        "#MUSHROOM DATASET downsampling scores RF\n",
        "evaluatePerformance(rf_clf, feat_mush_test, lab_mush_test)"
      ],
      "execution_count": 14,
      "outputs": [
        {
          "output_type": "stream",
          "text": [
            "Accuracy: 0.9995565410199557 +/- 0.0013303769401330269\n",
            "Precision: 1.0 +/- 0.0\n",
            "Recall: 0.9991031390134528 +/- 0.002690582959641263\n",
            "F1-Score: 0.9995495495495496 +/- 0.001351351351351371\n"
          ],
          "name": "stdout"
        }
      ]
    },
    {
      "cell_type": "markdown",
      "metadata": {
        "id": "i3pC5XKnV_oB",
        "colab_type": "text"
      },
      "source": [
        "OVERSAMPLING AND TEST RESULTS"
      ]
    },
    {
      "cell_type": "code",
      "metadata": {
        "id": "i-Pomx0vV_04",
        "colab_type": "code",
        "outputId": "94c057d0-10ed-4ef6-f175-d6191d467a93",
        "colab": {
          "base_uri": "https://localhost:8080/",
          "height": 82
        }
      },
      "source": [
        "#OVERSAMPLING MUSHROOM DATASET\n",
        "max_ = data_mush_imbalanced_['class_p'].value_counts().max()\n",
        "\n",
        "temp = [data_mush_imbalanced_]\n",
        "for class_index, group in data_mush_imbalanced_.groupby('class_p'):\n",
        "    temp.append(group.sample(max_-len(group), replace=True))\n",
        "data_mush_over = pd.concat(temp)\n",
        "\n",
        "print(data_mush_over['class_p'].value_counts())\n",
        "print(\"Imbalance:\", data_mush_over['class_p'].value_counts()[0]/(data_mush_over['class_p'].value_counts()[1]+(data_mush_over['class_p'].value_counts()[0])))"
      ],
      "execution_count": 15,
      "outputs": [
        {
          "output_type": "stream",
          "text": [
            "1    4208\n",
            "0    4208\n",
            "Name: class_p, dtype: int64\n",
            "Imbalance: 0.5\n"
          ],
          "name": "stdout"
        }
      ]
    },
    {
      "cell_type": "code",
      "metadata": {
        "id": "nvclq4JVWBs7",
        "colab_type": "code",
        "outputId": "7aa85e12-38bf-4025-dc11-a460aaf5769e",
        "colab": {
          "base_uri": "https://localhost:8080/",
          "height": 82
        }
      },
      "source": [
        "#MUSHROOM DATASET oversampling scores DT\n",
        "feat_mush_over = data_mush_over.drop('class_p', axis=1)\n",
        "lab_mush_over = data_mush_over['class_p']\n",
        "\n",
        "evaluatePerformance(tree_clf, feat_mush_over, lab_mush_over)"
      ],
      "execution_count": 16,
      "outputs": [
        {
          "output_type": "stream",
          "text": [
            "Accuracy: 1.0 +/- 0.0\n",
            "Precision: 1.0 +/- 0.0\n",
            "Recall: 1.0 +/- 0.0\n",
            "F1-Score: 1.0 +/- 0.0\n"
          ],
          "name": "stdout"
        }
      ]
    },
    {
      "cell_type": "code",
      "metadata": {
        "id": "J5EZSs_sWDOb",
        "colab_type": "code",
        "outputId": "2201b599-6f6f-4a2b-9ea0-d122856cb0a4",
        "colab": {
          "base_uri": "https://localhost:8080/",
          "height": 82
        }
      },
      "source": [
        "#MUSHROOM DATASET oversampling scores RF\n",
        "evaluatePerformance(rf_clf, feat_mush_over, lab_mush_over)"
      ],
      "execution_count": 17,
      "outputs": [
        {
          "output_type": "stream",
          "text": [
            "Accuracy: 1.0 +/- 0.0\n",
            "Precision: 1.0 +/- 0.0\n",
            "Recall: 1.0 +/- 0.0\n",
            "F1-Score: 1.0 +/- 0.0\n"
          ],
          "name": "stdout"
        }
      ]
    },
    {
      "cell_type": "markdown",
      "metadata": {
        "id": "U-sdEUYrWMTP",
        "colab_type": "text"
      },
      "source": [
        "CREATE 10 FOLDS OF EACH CLASS"
      ]
    },
    {
      "cell_type": "code",
      "metadata": {
        "id": "J0sVikZlWFJw",
        "colab_type": "code",
        "colab": {}
      },
      "source": [
        "from sklearn.cluster import KMeans\n",
        "import matplotlib.pyplot as plt\n",
        "from sklearn.metrics import silhouette_score, accuracy_score, precision_score, recall_score, f1_score"
      ],
      "execution_count": 0,
      "outputs": []
    },
    {
      "cell_type": "code",
      "metadata": {
        "id": "aZ3N5Mg5WSH0",
        "colab_type": "code",
        "outputId": "49dd009c-1149-40c5-cb83-00c468a89207",
        "colab": {
          "base_uri": "https://localhost:8080/",
          "height": 33
        }
      },
      "source": [
        "#MUSHROOM DATASET\n",
        "skf = StratifiedKFold(n_splits=10)\n",
        "print(lab_mush.shape)"
      ],
      "execution_count": 19,
      "outputs": [
        {
          "output_type": "stream",
          "text": [
            "(6441,)\n"
          ],
          "name": "stdout"
        }
      ]
    },
    {
      "cell_type": "markdown",
      "metadata": {
        "id": "4j-juU4pWYE2",
        "colab_type": "text"
      },
      "source": [
        "Silhouette method & Elbow method - amount of cluster determination"
      ]
    },
    {
      "cell_type": "code",
      "metadata": {
        "id": "Wj927b85Yhi0",
        "colab_type": "code",
        "colab": {}
      },
      "source": [
        "random_forest_clf = RandomForestClassifier(max_depth=2, random_state=0)\n",
        "rf_classifiers = []\n",
        "accuracy_scores = []\n",
        "precision_scores = []\n",
        "recall_scores = []\n",
        "f1_scores = []"
      ],
      "execution_count": 0,
      "outputs": []
    },
    {
      "cell_type": "code",
      "metadata": {
        "id": "sdT7mnELWSeN",
        "colab_type": "code",
        "outputId": "243502b1-f063-4ca7-f8f0-5d40226f3da0",
        "colab": {
          "base_uri": "https://localhost:8080/",
          "height": 877
        }
      },
      "source": [
        "sse_list = []\n",
        "missclassified_clusters = []\n",
        "missclassified_cluster_data_index = []\n",
        "for train, test in skf.split(feat_mush, lab_mush):\n",
        "  test_labels = []\n",
        "  max_silhouette = -1\n",
        "  max_silhouette_index = 0\n",
        "  for k in range(2, 15):\n",
        "    mmodel = KMeans(n_clusters=k).fit(feat_mush[train])\n",
        "    sse_list.append(mmodel.inertia_)\n",
        "    s_score = silhouette_score(feat_mush[train], mmodel.labels_, metric='euclidean')\n",
        "    if s_score > max_silhouette:\n",
        "      max_silhouette = s_score\n",
        "      max_silhouette_index = k\n",
        "  plt.plot(list(range(2, 15)), sse_list, '.-')\n",
        "  plt.show()\n",
        "  print('K value for max silhouette:', max_silhouette_index)\n",
        "  final_model = KMeans(n_clusters = max_silhouette_index).fit(feat_mush[train])\n",
        "  #Go through all clusters\n",
        "  for i in range(max_silhouette_index):\n",
        "    missclassified = 0\n",
        "    cluster_data = []\n",
        "    iteration = 0\n",
        "    #Loop through all clustered data and actual labels\n",
        "    for actual, predicted in zip(lab_mush[train], final_model.labels_):\n",
        "      #Only look at points from certain cluster\n",
        "      if predicted == i:\n",
        "        cluster_data.append(iteration)\n",
        "        #see if point in cluster have been missclassified\n",
        "        if actual != predicted:\n",
        "          missclassified = 1\n",
        "      iteration +=1\n",
        "    #Take note of which clusters have missclassified points\n",
        "    if missclassified == 1:\n",
        "      missclassified_clusters.append(i)\n",
        "    missclassified_cluster_data_index.append(cluster_data)\n",
        "  #Go through the clusters with missclassified data and train a random forest classifier for each\n",
        "  for i in missclassified_clusters:\n",
        "    f = feat_mush[train]\n",
        "    f1 = f[missclassified_cluster_data_index[i], :]\n",
        "    l  = lab_mush[train]\n",
        "    l1 = np.take(l, missclassified_cluster_data_index[i])\n",
        "    rf_classifiers.append(random_forest_clf.fit(f1, l1))\n",
        "  \n",
        "  #For each point in test dataset, give it a cluster\n",
        "  for x in feat_mush[test]:\n",
        "    prediction = final_model.predict(np.array([x]))\n",
        "    if prediction in missclassified_clusters:\n",
        "      test_labels.append(rf_classifiers[prediction[0]].predict(np.array([x])))\n",
        "    else:\n",
        "      test_labels.append(prediction)\n",
        "  accuracy_scores.append(accuracy_score(test_labels, lab_mush[test]))\n",
        "  precision_scores.append(precision_score(test_labels, lab_mush[test]))\n",
        "  recall_scores.append(recall_score(test_labels, lab_mush[test]))\n",
        "  f1_scores.append(f1_score(test_labels, lab_mush[test]))\n",
        "  \n",
        "  break"
      ],
      "execution_count": 27,
      "outputs": [
        {
          "output_type": "display_data",
          "data": {
            "image/png": "[encoded data removed]",
            "text/plain": [
              "<Figure size 432x288 with 1 Axes>"
            ]
          },
          "metadata": {
            "tags": []
          }
        },
        {
          "output_type": "stream",
          "text": [
            "K value for max silhouette: 8\n"
          ],
          "name": "stdout"
        },
        {
          "output_type": "error",
          "ename": "ValueError",
          "evalue": "ignored",
          "traceback": [
            "\u001b[0;31m---------------------------------------------------------------------------\u001b[0m",
            "\u001b[0;31mValueError\u001b[0m                                Traceback (most recent call last)",
            "\u001b[0;32m<ipython-input-27-e625d0dfbf00>\u001b[0m in \u001b[0;36m<module>\u001b[0;34m()\u001b[0m\n\u001b[1;32m     13\u001b[0m       \u001b[0mmax_silhouette\u001b[0m \u001b[0;34m=\u001b[0m \u001b[0ms_score\u001b[0m\u001b[0;34m\u001b[0m\u001b[0;34m\u001b[0m\u001b[0m\n\u001b[1;32m     14\u001b[0m       \u001b[0mmax_silhouette_index\u001b[0m \u001b[0;34m=\u001b[0m \u001b[0mk\u001b[0m\u001b[0;34m\u001b[0m\u001b[0;34m\u001b[0m\u001b[0m\n\u001b[0;32m---> 15\u001b[0;31m   \u001b[0mplt\u001b[0m\u001b[0;34m.\u001b[0m\u001b[0mplot\u001b[0m\u001b[0;34m(\u001b[0m\u001b[0mlist\u001b[0m\u001b[0;34m(\u001b[0m\u001b[0mrange\u001b[0m\u001b[0;34m(\u001b[0m\u001b[0;36m2\u001b[0m\u001b[0;34m,\u001b[0m \u001b[0;36m15\u001b[0m\u001b[0;34m)\u001b[0m\u001b[0;34m)\u001b[0m\u001b[0;34m,\u001b[0m \u001b[0msse_list\u001b[0m\u001b[0;34m,\u001b[0m \u001b[0;34m'.-'\u001b[0m\u001b[0;34m)\u001b[0m\u001b[0;34m\u001b[0m\u001b[0;34m\u001b[0m\u001b[0m\n\u001b[0m\u001b[1;32m     16\u001b[0m   \u001b[0mplt\u001b[0m\u001b[0;34m.\u001b[0m\u001b[0mshow\u001b[0m\u001b[0;34m(\u001b[0m\u001b[0;34m)\u001b[0m\u001b[0;34m\u001b[0m\u001b[0;34m\u001b[0m\u001b[0m\n\u001b[1;32m     17\u001b[0m   \u001b[0mprint\u001b[0m\u001b[0;34m(\u001b[0m\u001b[0;34m'K value for max silhouette:'\u001b[0m\u001b[0;34m,\u001b[0m \u001b[0mmax_silhouette_index\u001b[0m\u001b[0;34m)\u001b[0m\u001b[0;34m\u001b[0m\u001b[0;34m\u001b[0m\u001b[0m\n",
            "\u001b[0;32m/usr/local/lib/python3.6/dist-packages/matplotlib/pyplot.py\u001b[0m in \u001b[0;36mplot\u001b[0;34m(scalex, scaley, data, *args, **kwargs)\u001b[0m\n\u001b[1;32m   2761\u001b[0m     return gca().plot(\n\u001b[1;32m   2762\u001b[0m         *args, scalex=scalex, scaley=scaley, **({\"data\": data} if data\n\u001b[0;32m-> 2763\u001b[0;31m         is not None else {}), **kwargs)\n\u001b[0m\u001b[1;32m   2764\u001b[0m \u001b[0;34m\u001b[0m\u001b[0m\n\u001b[1;32m   2765\u001b[0m \u001b[0;34m\u001b[0m\u001b[0m\n",
            "\u001b[0;32m/usr/local/lib/python3.6/dist-packages/matplotlib/axes/_axes.py\u001b[0m in \u001b[0;36mplot\u001b[0;34m(self, scalex, scaley, data, *args, **kwargs)\u001b[0m\n\u001b[1;32m   1644\u001b[0m         \"\"\"\n\u001b[1;32m   1645\u001b[0m         \u001b[0mkwargs\u001b[0m \u001b[0;34m=\u001b[0m \u001b[0mcbook\u001b[0m\u001b[0;34m.\u001b[0m\u001b[0mnormalize_kwargs\u001b[0m\u001b[0;34m(\u001b[0m\u001b[0mkwargs\u001b[0m\u001b[0;34m,\u001b[0m \u001b[0mmlines\u001b[0m\u001b[0;34m.\u001b[0m\u001b[0mLine2D\u001b[0m\u001b[0;34m)\u001b[0m\u001b[0;34m\u001b[0m\u001b[0;34m\u001b[0m\u001b[0m\n\u001b[0;32m-> 1646\u001b[0;31m         \u001b[0mlines\u001b[0m \u001b[0;34m=\u001b[0m \u001b[0;34m[\u001b[0m\u001b[0;34m*\u001b[0m\u001b[0mself\u001b[0m\u001b[0;34m.\u001b[0m\u001b[0m_get_lines\u001b[0m\u001b[0;34m(\u001b[0m\u001b[0;34m*\u001b[0m\u001b[0margs\u001b[0m\u001b[0;34m,\u001b[0m \u001b[0mdata\u001b[0m\u001b[0;34m=\u001b[0m\u001b[0mdata\u001b[0m\u001b[0;34m,\u001b[0m \u001b[0;34m**\u001b[0m\u001b[0mkwargs\u001b[0m\u001b[0;34m)\u001b[0m\u001b[0;34m]\u001b[0m\u001b[0;34m\u001b[0m\u001b[0;34m\u001b[0m\u001b[0m\n\u001b[0m\u001b[1;32m   1647\u001b[0m         \u001b[0;32mfor\u001b[0m \u001b[0mline\u001b[0m \u001b[0;32min\u001b[0m \u001b[0mlines\u001b[0m\u001b[0;34m:\u001b[0m\u001b[0;34m\u001b[0m\u001b[0;34m\u001b[0m\u001b[0m\n\u001b[1;32m   1648\u001b[0m             \u001b[0mself\u001b[0m\u001b[0;34m.\u001b[0m\u001b[0madd_line\u001b[0m\u001b[0;34m(\u001b[0m\u001b[0mline\u001b[0m\u001b[0;34m)\u001b[0m\u001b[0;34m\u001b[0m\u001b[0;34m\u001b[0m\u001b[0m\n",
            "\u001b[0;32m/usr/local/lib/python3.6/dist-packages/matplotlib/axes/_base.py\u001b[0m in \u001b[0;36m__call__\u001b[0;34m(self, *args, **kwargs)\u001b[0m\n\u001b[1;32m    214\u001b[0m                 \u001b[0mthis\u001b[0m \u001b[0;34m+=\u001b[0m \u001b[0margs\u001b[0m\u001b[0;34m[\u001b[0m\u001b[0;36m0\u001b[0m\u001b[0;34m]\u001b[0m\u001b[0;34m,\u001b[0m\u001b[0;34m\u001b[0m\u001b[0;34m\u001b[0m\u001b[0m\n\u001b[1;32m    215\u001b[0m                 \u001b[0margs\u001b[0m \u001b[0;34m=\u001b[0m \u001b[0margs\u001b[0m\u001b[0;34m[\u001b[0m\u001b[0;36m1\u001b[0m\u001b[0;34m:\u001b[0m\u001b[0;34m]\u001b[0m\u001b[0;34m\u001b[0m\u001b[0;34m\u001b[0m\u001b[0m\n\u001b[0;32m--> 216\u001b[0;31m             \u001b[0;32myield\u001b[0m \u001b[0;32mfrom\u001b[0m \u001b[0mself\u001b[0m\u001b[0;34m.\u001b[0m\u001b[0m_plot_args\u001b[0m\u001b[0;34m(\u001b[0m\u001b[0mthis\u001b[0m\u001b[0;34m,\u001b[0m \u001b[0mkwargs\u001b[0m\u001b[0;34m)\u001b[0m\u001b[0;34m\u001b[0m\u001b[0;34m\u001b[0m\u001b[0m\n\u001b[0m\u001b[1;32m    217\u001b[0m \u001b[0;34m\u001b[0m\u001b[0m\n\u001b[1;32m    218\u001b[0m     \u001b[0;32mdef\u001b[0m \u001b[0mget_next_color\u001b[0m\u001b[0;34m(\u001b[0m\u001b[0mself\u001b[0m\u001b[0;34m)\u001b[0m\u001b[0;34m:\u001b[0m\u001b[0;34m\u001b[0m\u001b[0;34m\u001b[0m\u001b[0m\n",
            "\u001b[0;32m/usr/local/lib/python3.6/dist-packages/matplotlib/axes/_base.py\u001b[0m in \u001b[0;36m_plot_args\u001b[0;34m(self, tup, kwargs)\u001b[0m\n\u001b[1;32m    340\u001b[0m \u001b[0;34m\u001b[0m\u001b[0m\n\u001b[1;32m    341\u001b[0m         \u001b[0;32mif\u001b[0m \u001b[0mx\u001b[0m\u001b[0;34m.\u001b[0m\u001b[0mshape\u001b[0m\u001b[0;34m[\u001b[0m\u001b[0;36m0\u001b[0m\u001b[0;34m]\u001b[0m \u001b[0;34m!=\u001b[0m \u001b[0my\u001b[0m\u001b[0;34m.\u001b[0m\u001b[0mshape\u001b[0m\u001b[0;34m[\u001b[0m\u001b[0;36m0\u001b[0m\u001b[0;34m]\u001b[0m\u001b[0;34m:\u001b[0m\u001b[0;34m\u001b[0m\u001b[0;34m\u001b[0m\u001b[0m\n\u001b[0;32m--> 342\u001b[0;31m             raise ValueError(f\"x and y must have same first dimension, but \"\n\u001b[0m\u001b[1;32m    343\u001b[0m                              f\"have shapes {x.shape} and {y.shape}\")\n\u001b[1;32m    344\u001b[0m         \u001b[0;32mif\u001b[0m \u001b[0mx\u001b[0m\u001b[0;34m.\u001b[0m\u001b[0mndim\u001b[0m \u001b[0;34m>\u001b[0m \u001b[0;36m2\u001b[0m \u001b[0;32mor\u001b[0m \u001b[0my\u001b[0m\u001b[0;34m.\u001b[0m\u001b[0mndim\u001b[0m \u001b[0;34m>\u001b[0m \u001b[0;36m2\u001b[0m\u001b[0;34m:\u001b[0m\u001b[0;34m\u001b[0m\u001b[0;34m\u001b[0m\u001b[0m\n",
            "\u001b[0;31mValueError\u001b[0m: x and y must have same first dimension, but have shapes (13,) and (26,)"
          ]
        },
        {
          "output_type": "display_data",
          "data": {
            "image/png": "[encoded data removed]",
            "text/plain": [
              "<Figure size 432x288 with 1 Axes>"
            ]
          },
          "metadata": {
            "tags": []
          }
        }
      ]
    },
    {
      "cell_type": "code",
      "metadata": {
        "id": "dB72UEEKNPSc",
        "colab_type": "code",
        "colab": {}
      },
      "source": [
        "print(accuracy_scores)"
      ],
      "execution_count": 0,
      "outputs": []
    },
    {
      "cell_type": "code",
      "metadata": {
        "id": "3Ppt3FdANUCp",
        "colab_type": "code",
        "colab": {}
      },
      "source": [
        ""
      ],
      "execution_count": 0,
      "outputs": []
    }
  ]
}